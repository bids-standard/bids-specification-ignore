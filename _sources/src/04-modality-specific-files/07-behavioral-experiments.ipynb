{
 "cells": [
  {
   "cell_type": "markdown",
   "id": "a6bcfa86",
   "metadata": {},
   "source": [
    "# Behavioral experiments (with no neural recordings)\n",
    "\n",
    "{{ MACROS___make_filename_template(datatypes=[\"beh\"]) }}\n",
    "\n",
    "In addition to logs from behavioral experiments performed alongside imaging data\n",
    "acquisitions, one can also include data from experiments performed with no neural\n",
    "recordings.\n",
    "The results of those experiments can be stored in the `beh` directory using the same\n",
    "formats for event timing (`_events.tsv`), metadata (`_events.json`),\n",
    "physiological (`_physio.tsv.gz`, `_physio.json`)\n",
    "and other continuous recordings (`_stim.tsv.gz`, `_stim.json`)\n",
    "as for tasks performed during MRI, electrophysiological or other neural recordings.\n",
    "Additionally, events files that do not include the mandatory `onset` and\n",
    "`duration` columns can still be included, but should be labeled `_beh.tsv`\n",
    "rather than `_events.tsv`.\n",
    "\n",
    "Each task has a unique label that MUST only consist of letters and/or numbers\n",
    "(other characters, including spaces and underscores, are not allowed) with the\n",
    "[`task-<label>`](../99-appendices/09-entities.md#task) key/value pair.\n",
    "Those labels MUST be consistent across subjects and sessions.\n",
    "\n",
    "The OPTIONAL [`acq-<label>`](../99-appendices/09-entities.md#acq) key/value pair corresponds to a custom label to\n",
    "distinguish different conditions present during multiple runs of the same task.\n",
    "For example, if a study includes runs of an n-back task, with deep brain\n",
    "stimulation turned on or off, the data files may be labelled\n",
    "`sub-01_task-nback_acq-dbson_beh.tsv` and `sub-01_task-nback_acq-dbsoff_beh.tsv`.\n",
    "\n",
    "## RECOMMENDED metadata\n",
    "\n",
    "In addition to the metadata that is either:\n",
    "\n",
    "-   RECOMMENDED for sidecar JSON files for [tabular data](../02-common-principles.md#tabular-data), or\n",
    "\n",
    "-   REQUIRED for some data that can be found in the `beh` directory\n",
    "    (for example `SamplingFrequency` and `StartTime` for `*_<physio|stim>.tsv.gz` files),\n",
    "\n",
    "it is RECOMMENDED to add the following metadata to the JSON files of this directory:\n",
    "\n",
    "{{ MACROS___make_metadata_table(\n",
    "   {\n",
    "      \"TaskName\": \"RECOMMENDED\",\n",
    "      \"Instructions\": \"RECOMMENDED\",\n",
    "      \"TaskDescription\": \"RECOMMENDED\",\n",
    "      \"CogAtlasID\": \"RECOMMENDED\",\n",
    "      \"CogPOID\": \"RECOMMENDED\",\n",
    "      \"InstitutionName\": \"RECOMMENDED\",\n",
    "      \"InstitutionAddress\": \"RECOMMENDED\",\n",
    "      \"InstitutionalDepartmentName\": \"RECOMMENDED\",\n",
    "   }\n",
    ") }}\n",
    "\n",
    "Example of the content of a `_beh.tsv` and its accompanying `_beh.json` sidecar file:\n",
    "\n",
    "```Text\n",
    "trial\tresponse\tresponse_time\tstim_file\n",
    "congruent\tred\t1.435\timages/word-red_color-red.jpg\n",
    "incongruent\tred\t1.739\timages/word-red_color-blue.jpg\n",
    "```\n",
    "\n",
    "In the accompanying JSON sidecar, the `trial` column might be documented as follows:\n",
    "\n",
    "```JSON\n",
    "{\n",
    "   \"TaskName\": \"Stroop\",\n",
    "   \"trial\": {\n",
    "      \"LongName\": \"Trial name\",\n",
    "      \"Description\": \"Indicator of the type of trial\",\n",
    "      \"Levels\": {\n",
    "         \"congruent\": \"Word and font color match.\",\n",
    "         \"incongruent\": \"Word and font color do not match.\"\n",
    "      }\n",
    "   }\n",
    "}\n",
    "```"
   ]
  }
 ],
 "metadata": {
  "jupytext": {
   "text_representation": {
    "extension": ".md",
    "format_name": "myst",
    "format_version": 0.13,
    "jupytext_version": "1.10.3"
   }
  },
  "kernelspec": {
   "display_name": "Python 3",
   "language": "python",
   "name": "python3"
  },
  "language_info": {
   "codemirror_mode": {
    "name": "ipython",
    "version": 3
   },
   "file_extension": ".py",
   "mimetype": "text/x-python",
   "name": "python",
   "nbconvert_exporter": "python",
   "pygments_lexer": "ipython3",
   "version": "3.7.12"
  },
  "source_map": [
   12
  ]
 },
 "nbformat": 4,
 "nbformat_minor": 5
}